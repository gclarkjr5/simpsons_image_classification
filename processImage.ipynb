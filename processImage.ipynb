{
 "cells": [
  {
   "cell_type": "code",
   "execution_count": 1,
   "metadata": {},
   "outputs": [],
   "source": [
    "import numpy as np\n",
    "import os\n",
    "import imageio\n",
    "import matplotlib.pyplot as plt\n",
    "import sklearn\n",
    "import re\n",
    "from sklearn.utils import shuffle\n",
    "from sklearn.model_selection import train_test_split, GridSearchCV\n",
    "from sklearn.linear_model import LogisticRegression"
   ]
  },
  {
   "cell_type": "code",
   "execution_count": 2,
   "metadata": {},
   "outputs": [
    {
     "data": {
      "text/plain": [
       "(47, 47)"
      ]
     },
     "execution_count": 2,
     "metadata": {},
     "output_type": "execute_result"
    }
   ],
   "source": [
    "# Local directory\n",
    "# train_directory = '/media/sf_Gee_Hard_Drive/Kaggle Data/the-simpsons-characters-dataset/simpsons_train_scaled'\n",
    "\n",
    "# AWS directory\n",
    "train_directory = '../simpsons_train_scaled'\n",
    "\n",
    "def getClasses(directory):\n",
    "    dirs = os.listdir(train_directory)\n",
    "    indices = np.arange(len(dirs))\n",
    "    dictionary = dict(zip(dirs, indices))\n",
    "    return(dictionary, dirs)\n",
    "\n",
    "classes, characters = getClasses(train_directory)\n",
    "len(classes), len(characters)"
   ]
  },
  {
   "cell_type": "code",
   "execution_count": 3,
   "metadata": {},
   "outputs": [
    {
     "data": {
      "text/plain": [
       "(20933, 3, 'moe_szyslak')"
      ]
     },
     "execution_count": 3,
     "metadata": {},
     "output_type": "execute_result"
    }
   ],
   "source": [
    "# Training Directory\n",
    "trainList = list()\n",
    "for character in characters:\n",
    "    folder = train_directory + '/' + character\n",
    "    files = os.listdir(folder)\n",
    "    for file in files:\n",
    "        filePath = folder + '/' + file\n",
    "        pixArray = imageio.imread(filePath)\n",
    "        pixArray = np.array(pixArray)\n",
    "        pixArray = pixArray.flatten()\n",
    "        pixArray = pixArray/255\n",
    "        l = [classes[character], character, pixArray]\n",
    "        trainList.append(l)\n",
    "\n",
    "len(trainList), len(trainList[0]), trainList[0][1]"
   ]
  },
  {
   "cell_type": "code",
   "execution_count": 4,
   "metadata": {},
   "outputs": [
    {
     "data": {
      "text/plain": [
       "(990, 3, 'moe_szyslak')"
      ]
     },
     "execution_count": 4,
     "metadata": {},
     "output_type": "execute_result"
    }
   ],
   "source": [
    "# Test Directory\n",
    "\n",
    "# AWS directory\n",
    "test_directory = '../simpsons_test_scaled'\n",
    "\n",
    "testList = list()\n",
    "test_pics = os.listdir(test_directory)\n",
    "# ids = []\n",
    "for pic in test_pics:\n",
    "    if pic != '.DS_Store':\n",
    "        filePath = test_directory + '/' + pic\n",
    "        pixArray = imageio.imread(filePath)\n",
    "        pixArray = np.array(pixArray)\n",
    "        pixArray = pixArray.flatten()\n",
    "        pixArray = pixArray/255\n",
    "        character = re.sub('_[0-9]{1,2}.jpg$', '', pic)\n",
    "        l = [classes[character], character, pixArray]\n",
    "        testList.append(l)\n",
    "        \n",
    "#         ids.append([pix_array, character_label, class_dict[character_label]])\n",
    "# testObj = np.array(ids)\n",
    "# testObj.shape, testObj[0][0].shape\n",
    "len(testList), len(testList[0]), testList[0][1]"
   ]
  },
  {
   "cell_type": "code",
   "execution_count": 5,
   "metadata": {},
   "outputs": [],
   "source": [
    "XTrain = list(map(lambda x: x[2], trainList))\n",
    "YTrain = list(map(lambda x: x[0], trainList))\n",
    "XTest = list(map(lambda x: x[2], testList))\n",
    "YTest = list(map(lambda x: x[0], testList))\n",
    "\n",
    "\n",
    "X_train, Y_train = shuffle(XTrain, YTrain, random_state = 15)\n",
    "X_test, Y_test = shuffle(XTest, YTest, random_state = 15)"
   ]
  },
  {
   "cell_type": "code",
   "execution_count": 6,
   "metadata": {},
   "outputs": [],
   "source": [
    "# Train test split on sample training data\n",
    "# X_train, X_test, Y_train, Y_test = train_test_split(X, Y)\n",
    "\n",
    "# Grid Search\n",
    "# parameters = {\n",
    "#     'solver': ['lbfgs', 'sag', 'newton-cg']\n",
    "# }"
   ]
  },
  {
   "cell_type": "code",
   "execution_count": null,
   "metadata": {},
   "outputs": [],
   "source": [
    "clf = LogisticRegression(multi_class=\"multinomial\", solver = \"newton-cg\")\n",
    "# clf = GridSearchCV(logR, parameters)\n",
    "clf.fit(X_train, Y_train)"
   ]
  },
  {
   "cell_type": "code",
   "execution_count": null,
   "metadata": {},
   "outputs": [],
   "source": [
    "score = clf.score(X_test, Y_test)\n",
    "score"
   ]
  }
 ],
 "metadata": {
  "kernelspec": {
   "display_name": "Tensorflow",
   "language": "python",
   "name": "tensorflow"
  },
  "language_info": {
   "codemirror_mode": {
    "name": "ipython",
    "version": 3
   },
   "file_extension": ".py",
   "mimetype": "text/x-python",
   "name": "python",
   "nbconvert_exporter": "python",
   "pygments_lexer": "ipython3",
   "version": "3.5.2"
  }
 },
 "nbformat": 4,
 "nbformat_minor": 2
}
