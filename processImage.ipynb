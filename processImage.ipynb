{
 "cells": [
  {
   "cell_type": "code",
   "execution_count": 199,
   "metadata": {},
   "outputs": [],
   "source": [
    "import numpy as np\n",
    "import os\n",
    "import imageio\n",
    "import matplotlib.pyplot as plt\n",
    "import sklearn\n",
    "from sklearn.utils import shuffle\n",
    "from sklearn.model_selection import train_test_split, GridSearchCV\n",
    "from sklearn.linear_model import LogisticRegression"
   ]
  },
  {
   "cell_type": "code",
   "execution_count": 109,
   "metadata": {},
   "outputs": [
    {
     "data": {
      "text/plain": [
       "(47,\n",
       " 47,\n",
       " {'abraham_grampa_simpson': 0,\n",
       "  'agnes_skinner': 1,\n",
       "  'apu_nahasapeemapetilon': 2,\n",
       "  'barney_gumble': 3,\n",
       "  'bart_simpson': 4,\n",
       "  'bumblebee_man': 5,\n",
       "  'carl_carlson': 6,\n",
       "  'charles_montgomery_burns': 7,\n",
       "  'chief_wiggum': 8,\n",
       "  'cletus_spuckler': 9,\n",
       "  'comic_book_guy': 10,\n",
       "  'disco_stu': 11,\n",
       "  'edna_krabappel': 12,\n",
       "  'fat_tony': 13,\n",
       "  'gil': 14,\n",
       "  'groundskeeper_willie': 15,\n",
       "  'hans_moleman': 16,\n",
       "  'helen_lovejoy': 17,\n",
       "  'homer_simpson': 18,\n",
       "  'jasper_beardly': 19,\n",
       "  'jimbo_jones': 20,\n",
       "  'kent_brockman': 21,\n",
       "  'krusty_the_clown': 22,\n",
       "  'lenny_leonard': 23,\n",
       "  'lionel_hutz': 24,\n",
       "  'lisa_simpson': 25,\n",
       "  'maggie_simpson': 26,\n",
       "  'marge_simpson': 27,\n",
       "  'martin_prince': 28,\n",
       "  'mayor_quimby': 29,\n",
       "  'milhouse_van_houten': 30,\n",
       "  'miss_hoover': 31,\n",
       "  'moe_szyslak': 32,\n",
       "  'ned_flanders': 33,\n",
       "  'nelson_muntz': 34,\n",
       "  'otto_mann': 35,\n",
       "  'patty_bouvier': 36,\n",
       "  'principal_skinner': 37,\n",
       "  'professor_john_frink': 38,\n",
       "  'rainier_wolfcastle': 39,\n",
       "  'ralph_wiggum': 40,\n",
       "  'selma_bouvier': 41,\n",
       "  'sideshow_bob': 42,\n",
       "  'sideshow_mel': 43,\n",
       "  'snake_jailbird': 44,\n",
       "  'troy_mcclure': 45,\n",
       "  'waylon_smithers': 46})"
      ]
     },
     "execution_count": 109,
     "metadata": {},
     "output_type": "execute_result"
    }
   ],
   "source": [
    "# Local directory\n",
    "train_directory = '/media/sf_Gee_Hard_Drive/Kaggle Data/the-simpsons-characters-dataset/simpsons_train_scaled'\n",
    "\n",
    "def getClasses(directory):\n",
    "    dirs = os.listdir(train_directory)\n",
    "    indices = np.arange(len(dirs))\n",
    "    dictionary = dict(zip(dirs, indices))\n",
    "    return(dictionary, dirs)\n",
    "\n",
    "classes, characters = getClasses(train_directory)\n",
    "len(classes), len(characters)"
   ]
  },
  {
   "cell_type": "code",
   "execution_count": 194,
   "metadata": {},
   "outputs": [
    {
     "data": {
      "text/plain": [
       "(409, 3, 'abraham_grampa_simpson')"
      ]
     },
     "execution_count": 194,
     "metadata": {},
     "output_type": "execute_result"
    }
   ],
   "source": [
    "List = list()\n",
    "for character in characters:\n",
    "    folder = train_directory + '/' + character\n",
    "    files = os.listdir(folder)\n",
    "    for file in files[0:10]:\n",
    "        filePath = folder + '/' + file\n",
    "        pixArray = imageio.imread(filePath)\n",
    "        pixArray = np.array(pixArray)\n",
    "        pixArray = pixArray.flatten()\n",
    "        pixArray = pixArray/255\n",
    "        l = [classes[character], character, pixArray]\n",
    "        List.append(l)\n",
    "\n",
    "len(List), len(List[0]), List[0][1]"
   ]
  },
  {
   "cell_type": "code",
   "execution_count": 195,
   "metadata": {},
   "outputs": [],
   "source": [
    "X = list(map(lambda x: x[2], List))\n",
    "Y = list(map(lambda x: x[0], List))\n",
    "\n",
    "X, Y = shuffle(X, Y, random_state = 15)"
   ]
  },
  {
   "cell_type": "code",
   "execution_count": 206,
   "metadata": {},
   "outputs": [],
   "source": [
    "X_train, X_test, Y_train, Y_test = train_test_split(X, Y)\n",
    "\n",
    "parameters = {\n",
    "#     'max_iter':,\n",
    "#     'penalty':['l1', 'l2'],\n",
    "    'solver': ['lbfgs', 'sag', 'newton-cg']\n",
    "}"
   ]
  },
  {
   "cell_type": "code",
   "execution_count": 207,
   "metadata": {},
   "outputs": [
    {
     "name": "stderr",
     "output_type": "stream",
     "text": [
      "/home/gclarkjr5/.local/lib/python3.5/site-packages/sklearn/model_selection/_split.py:605: Warning: The least populated class in y has only 2 members, which is too few. The minimum number of members in any class cannot be less than n_splits=3.\n",
      "  % (min_groups, self.n_splits)), Warning)\n",
      "/home/gclarkjr5/.local/lib/python3.5/site-packages/sklearn/linear_model/sag.py:326: ConvergenceWarning: The max_iter was reached which means the coef_ did not converge\n",
      "  \"the coef_ did not converge\", ConvergenceWarning)\n",
      "/home/gclarkjr5/.local/lib/python3.5/site-packages/sklearn/linear_model/sag.py:326: ConvergenceWarning: The max_iter was reached which means the coef_ did not converge\n",
      "  \"the coef_ did not converge\", ConvergenceWarning)\n",
      "/home/gclarkjr5/.local/lib/python3.5/site-packages/sklearn/linear_model/sag.py:326: ConvergenceWarning: The max_iter was reached which means the coef_ did not converge\n",
      "  \"the coef_ did not converge\", ConvergenceWarning)\n"
     ]
    },
    {
     "data": {
      "text/plain": [
       "GridSearchCV(cv=None, error_score='raise',\n",
       "       estimator=LogisticRegression(C=1.0, class_weight=None, dual=False, fit_intercept=True,\n",
       "          intercept_scaling=1, max_iter=100, multi_class='ovr', n_jobs=1,\n",
       "          penalty='l2', random_state=None, solver='liblinear', tol=0.0001,\n",
       "          verbose=0, warm_start=False),\n",
       "       fit_params=None, iid=True, n_jobs=1,\n",
       "       param_grid={'solver': ['lbfgs', 'sag', 'newton-cg']},\n",
       "       pre_dispatch='2*n_jobs', refit=True, return_train_score='warn',\n",
       "       scoring=None, verbose=0)"
      ]
     },
     "execution_count": 207,
     "metadata": {},
     "output_type": "execute_result"
    }
   ],
   "source": [
    "logR = LogisticRegression()\n",
    "clf = GridSearchCV(logR, parameters)\n",
    "clf.fit(X_train, Y_train)"
   ]
  },
  {
   "cell_type": "code",
   "execution_count": 208,
   "metadata": {},
   "outputs": [
    {
     "name": "stdout",
     "output_type": "stream",
     "text": [
      "{'solver': 'newton-cg'}\n"
     ]
    }
   ],
   "source": [
    "print(clf.best_params_)\n",
    "# score = clf.score(X_test, Y_test)\n",
    "# score"
   ]
  },
  {
   "cell_type": "code",
   "execution_count": null,
   "metadata": {},
   "outputs": [],
   "source": []
  }
 ],
 "metadata": {
  "kernelspec": {
   "display_name": "Tensorflow",
   "language": "python",
   "name": "tensorflow"
  },
  "language_info": {
   "codemirror_mode": {
    "name": "ipython",
    "version": 3
   },
   "file_extension": ".py",
   "mimetype": "text/x-python",
   "name": "python",
   "nbconvert_exporter": "python",
   "pygments_lexer": "ipython3",
   "version": "3.5.2"
  }
 },
 "nbformat": 4,
 "nbformat_minor": 2
}
