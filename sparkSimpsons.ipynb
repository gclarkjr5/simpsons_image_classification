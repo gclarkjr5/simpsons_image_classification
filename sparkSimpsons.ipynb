{
 "cells": [
  {
   "cell_type": "code",
   "execution_count": 1,
   "metadata": {},
   "outputs": [],
   "source": [
    "from pyspark import SparkContext\n",
    "sc = SparkContext(appName=\"Simpsons_LogisticR\")"
   ]
  },
  {
   "cell_type": "code",
   "execution_count": 2,
   "metadata": {},
   "outputs": [],
   "source": [
    "import thunder as td\n",
    "import numpy as np\n",
    "import os\n",
    "import imageio\n",
    "import re\n",
    "from showit import image\n",
    "import pyspark.mllib.classification as ml"
   ]
  },
  {
   "cell_type": "code",
   "execution_count": 3,
   "metadata": {},
   "outputs": [
    {
     "data": {
      "text/plain": [
       "47"
      ]
     },
     "execution_count": 3,
     "metadata": {},
     "output_type": "execute_result"
    }
   ],
   "source": [
    "# Local directory\n",
    "train_directory = '/media/sf_Gee_Hard_Drive/Kaggle Data/the-simpsons-characters-dataset/simpsons_train_scaled'\n",
    "def getClasses(directory):\n",
    "    dirs = os.listdir(train_directory)\n",
    "    indices = np.arange(len(dirs))\n",
    "    dictionary = dict(zip(dirs, indices))\n",
    "    return(dictionary, dirs)\n",
    "\n",
    "classes, characters = getClasses(train_directory)\n",
    "splitCharacters = sc.parallelize(characters, 5).glom()\n",
    "len(characters)"
   ]
  },
  {
   "cell_type": "code",
   "execution_count": 4,
   "metadata": {},
   "outputs": [],
   "source": [
    "def getTrainImagesToShow(x):\n",
    "    for character in x:\n",
    "        folder = train_directory + '/' + character\n",
    "        files = os.listdir(folder)\n",
    "        images = []\n",
    "        for file in files:\n",
    "            filePath = folder + '/' + file\n",
    "            pixArray = imageio.imread(filePath)\n",
    "            pixArray = np.array(pixArray)\n",
    "#             pixArray = pixArray.flatten()\n",
    "            pixArray = pixArray/255\n",
    "            images.append(pixArray)\n",
    "        return(images)\n",
    "\n",
    "def getTrainImagesandLabels(x):\n",
    "    for character in x:\n",
    "        folder = train_directory + '/' + character\n",
    "        files = os.listdir(folder)\n",
    "        images = []\n",
    "        for file in files:\n",
    "            filePath = folder + '/' + file\n",
    "            pixArray = imageio.imread(filePath)\n",
    "            pixArray = np.array(pixArray)\n",
    "            pixArray = pixArray.flatten()\n",
    "            pixArray = pixArray/255\n",
    "            images.append(pixArray)\n",
    "            labelPoint = ml.LabeledPoint(classes[character], images)\n",
    "            return(labelPoint)"
   ]
  },
  {
   "cell_type": "code",
   "execution_count": 5,
   "metadata": {},
   "outputs": [
    {
     "data": {
      "text/plain": [
       "(100, 100, 3)"
      ]
     },
     "execution_count": 5,
     "metadata": {},
     "output_type": "execute_result"
    }
   ],
   "source": [
    "t = getTrainImagesToShow(characters)\n",
    "image(t[0])\n",
    "t[0].shape"
   ]
  },
  {
   "cell_type": "code",
   "execution_count": 6,
   "metadata": {},
   "outputs": [],
   "source": [
    "sample = splitCharacters.map(lambda x: getTrainImagesandLabels(x))"
   ]
  },
  {
   "cell_type": "code",
   "execution_count": null,
   "metadata": {},
   "outputs": [],
   "source": [
    "lrm = ml.LogisticRegressionWithLBFGS.train(sample, iterations = 10, numClasses=len(characters))"
   ]
  },
  {
   "cell_type": "code",
   "execution_count": 9,
   "metadata": {},
   "outputs": [],
   "source": [
    "test_directory = '/media/sf_Gee_Hard_Drive/Kaggle Data/the-simpsons-characters-dataset/simpsons_test_scaled'\n",
    "\n",
    "test_pics = os.listdir(test_directory)\n",
    "testPicsSpark = sc.parallelize(test_pics, 5).glom() \n"
   ]
  },
  {
   "cell_type": "code",
   "execution_count": 10,
   "metadata": {},
   "outputs": [],
   "source": [
    "def getTestImages(x):\n",
    "    ids = []\n",
    "    characters = []\n",
    "    for pic in x:\n",
    "        character_label = re.sub(\"_[0-9]{1,2}.jpg$\", '', pic)\n",
    "        path = test_directory + '/' + pic\n",
    "        pixArray = imageio.imread(path)\n",
    "        pixArray = np.array(pixArray)\n",
    "        pixArray = pixArray.flatten()\n",
    "        pixArray = pixArray/255\n",
    "        ids.append(pixArray)\n",
    "        characters.append(character_label)\n",
    "    return(ids, characters)"
   ]
  },
  {
   "cell_type": "code",
   "execution_count": 11,
   "metadata": {},
   "outputs": [],
   "source": [
    "pix, characters = getTestImages(test_pics)"
   ]
  },
  {
   "cell_type": "code",
   "execution_count": 17,
   "metadata": {},
   "outputs": [],
   "source": [
    "p = pix[0:10]\n",
    "c = characters[0:10]"
   ]
  },
  {
   "cell_type": "code",
   "execution_count": 18,
   "metadata": {},
   "outputs": [
    {
     "data": {
      "text/plain": [
       "[18, 18, 27, 9, 9, 27, 18, 27, 9, 27]"
      ]
     },
     "execution_count": 18,
     "metadata": {},
     "output_type": "execute_result"
    }
   ],
   "source": [
    "lrm.predict(sc.parallelize(p, 5)).collect()"
   ]
  },
  {
   "cell_type": "code",
   "execution_count": 19,
   "metadata": {},
   "outputs": [
    {
     "data": {
      "text/plain": [
       "['sideshow_bob',\n",
       " 'sideshow_bob',\n",
       " 'sideshow_bob',\n",
       " 'nelson_muntz',\n",
       " 'nelson_muntz',\n",
       " 'nelson_muntz',\n",
       " 'nelson_muntz',\n",
       " 'nelson_muntz',\n",
       " 'nelson_muntz',\n",
       " 'nelson_muntz']"
      ]
     },
     "execution_count": 19,
     "metadata": {},
     "output_type": "execute_result"
    }
   ],
   "source": [
    "c"
   ]
  },
  {
   "cell_type": "code",
   "execution_count": 15,
   "metadata": {},
   "outputs": [
    {
     "data": {
      "text/plain": [
       "{'abraham_grampa_simpson': 0,\n",
       " 'agnes_skinner': 1,\n",
       " 'apu_nahasapeemapetilon': 2,\n",
       " 'barney_gumble': 3,\n",
       " 'bart_simpson': 4,\n",
       " 'bumblebee_man': 5,\n",
       " 'carl_carlson': 6,\n",
       " 'charles_montgomery_burns': 7,\n",
       " 'chief_wiggum': 8,\n",
       " 'cletus_spuckler': 9,\n",
       " 'comic_book_guy': 10,\n",
       " 'disco_stu': 11,\n",
       " 'edna_krabappel': 12,\n",
       " 'fat_tony': 13,\n",
       " 'gil': 14,\n",
       " 'groundskeeper_willie': 15,\n",
       " 'hans_moleman': 16,\n",
       " 'helen_lovejoy': 17,\n",
       " 'homer_simpson': 18,\n",
       " 'jasper_beardly': 19,\n",
       " 'jimbo_jones': 20,\n",
       " 'kent_brockman': 21,\n",
       " 'krusty_the_clown': 22,\n",
       " 'lenny_leonard': 23,\n",
       " 'lionel_hutz': 24,\n",
       " 'lisa_simpson': 25,\n",
       " 'maggie_simpson': 26,\n",
       " 'marge_simpson': 27,\n",
       " 'martin_prince': 28,\n",
       " 'mayor_quimby': 29,\n",
       " 'milhouse_van_houten': 30,\n",
       " 'miss_hoover': 31,\n",
       " 'moe_szyslak': 32,\n",
       " 'ned_flanders': 33,\n",
       " 'nelson_muntz': 34,\n",
       " 'otto_mann': 35,\n",
       " 'patty_bouvier': 36,\n",
       " 'principal_skinner': 37,\n",
       " 'professor_john_frink': 38,\n",
       " 'rainier_wolfcastle': 39,\n",
       " 'ralph_wiggum': 40,\n",
       " 'selma_bouvier': 41,\n",
       " 'sideshow_bob': 42,\n",
       " 'sideshow_mel': 43,\n",
       " 'snake_jailbird': 44,\n",
       " 'troy_mcclure': 45,\n",
       " 'waylon_smithers': 46}"
      ]
     },
     "execution_count": 15,
     "metadata": {},
     "output_type": "execute_result"
    }
   ],
   "source": [
    "classes"
   ]
  },
  {
   "cell_type": "code",
   "execution_count": 31,
   "metadata": {},
   "outputs": [],
   "source": [
    "sc.stop()"
   ]
  }
 ],
 "metadata": {
  "kernelspec": {
   "display_name": "PySpark",
   "language": "python",
   "name": "pyspark"
  },
  "language_info": {
   "codemirror_mode": {
    "name": "ipython",
    "version": 3
   },
   "file_extension": ".py",
   "mimetype": "text/x-python",
   "name": "python",
   "nbconvert_exporter": "python",
   "pygments_lexer": "ipython3",
   "version": "3.5.2"
  }
 },
 "nbformat": 4,
 "nbformat_minor": 2
}
